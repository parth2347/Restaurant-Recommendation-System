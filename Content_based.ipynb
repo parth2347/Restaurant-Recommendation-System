{
 "cells": [
  {
   "cell_type": "markdown",
   "source": [
    "# Import Libraries"
   ],
   "metadata": {
    "collapsed": false
   }
  },
  {
   "cell_type": "code",
   "execution_count": 68,
   "outputs": [],
   "source": [
    "from pyspark.sql import SparkSession\n",
    "from pyspark.ml.feature import RegexTokenizer, CountVectorizer\n",
    "from pyspark.ml.feature import StopWordsRemover\n",
    "from pyspark.ml.feature import IDF\n",
    "from pyspark.ml import Pipeline, PipelineModel\n",
    "import numpy as np\n",
    "from pyspark.sql.functions import desc\n",
    "from pyspark.sql.types import *\n",
    "from pyspark.ml.feature import Word2Vec\n",
    "from pyspark.sql.functions import col\n",
    "from pyspark.ml.evaluation import RegressionEvaluator\n",
    "from pyspark.sql.functions import round"
   ],
   "metadata": {
    "collapsed": false
   }
  },
  {
   "cell_type": "code",
   "execution_count": 69,
   "outputs": [],
   "source": [
    "spark = SparkSession \\\n",
    "        .builder \\\n",
    "        .appName(\"Content Based restaurant recommendation\") \\\n",
    "        .getOrCreate()\n",
    "sc = spark.sparkContext"
   ],
   "metadata": {
    "collapsed": false
   }
  },
  {
   "cell_type": "markdown",
   "source": [
    "# Load the sampled data"
   ],
   "metadata": {
    "collapsed": false
   }
  },
  {
   "cell_type": "code",
   "execution_count": 70,
   "outputs": [],
   "source": [
    "business_df = spark.read.parquet('Sample_Datasets/montreal_business')\n",
    "reviews_df = spark.read.parquet('Sample_Datasets/montreal_reviews')\n",
    "users_df = spark.read.parquet('Sample_Datasets/montreal_users')"
   ],
   "metadata": {
    "collapsed": false
   }
  },
  {
   "cell_type": "markdown",
   "source": [
    "# Process Reviews\n",
    "1. Group reviews of restaurants\n",
    "2. Generate a Word2Vec vector from the reviews."
   ],
   "metadata": {
    "collapsed": false
   }
  },
  {
   "cell_type": "markdown",
   "source": [
    "### Step 1 : Group reviews of restaurants"
   ],
   "metadata": {
    "collapsed": false
   }
  },
  {
   "cell_type": "code",
   "execution_count": 71,
   "outputs": [
    {
     "name": "stderr",
     "output_type": "stream",
     "text": [
      "                                                                                \r"
     ]
    },
    {
     "name": "stdout",
     "output_type": "stream",
     "text": [
      "+--------------------+--------------------+\n",
      "|         business_id|                text|\n",
      "+--------------------+--------------------+\n",
      "|-1xuC540Nycht_iWF...|I was so hungry f...|\n",
      "|-4TVAE4KcLWVSXO2r...|These guys won't ...|\n",
      "|-ldO91cdwbzIHN5hD...|Not a fan of this...|\n",
      "+--------------------+--------------------+\n",
      "only showing top 3 rows\n",
      "\n"
     ]
    }
   ],
   "source": [
    "reviews_df_train, reviews_df_test = reviews_df.randomSplit([0.8, 0.2], seed=3)\n",
    "reviews_text = reviews_df_train.select('business_id', 'text')\n",
    "\n",
    "# Group reviews by restaurant ID\n",
    "reviews_by_business = reviews_text.rdd.map(lambda x: (x[0], x[1])).reduceByKey(lambda x, y: x + \" \" + y)\n",
    "reviews_by_business_df = reviews_by_business.toDF(['business_id', 'text'])\n",
    "reviews_by_business_df.show(3)"
   ],
   "metadata": {
    "collapsed": false
   }
  },
  {
   "cell_type": "markdown",
   "source": [
    "### Step 2: Convert reviews to Word2Vec feature vector"
   ],
   "metadata": {
    "collapsed": false
   }
  },
  {
   "cell_type": "code",
   "execution_count": 72,
   "outputs": [
    {
     "name": "stderr",
     "output_type": "stream",
     "text": [
      "                                                                                \r"
     ]
    }
   ],
   "source": [
    "# Remove the stop words from text, and create the tf idf matrix\n",
    "tokenize_sentence        = RegexTokenizer(pattern = '\\w+', inputCol = 'text', outputCol = 'tokens', toLowercase=True, gaps = False)\n",
    "remove_stopwords = StopWordsRemover(inputCol = 'tokens', outputCol = 'nostopwords')\n",
    "# 1000 words to limit number of features and reduce overfitting\n",
    "countVectorizer  = CountVectorizer(inputCol='nostopwords', outputCol='tf', vocabSize=1000)\n",
    "tfiDF            = IDF(inputCol='tf', outputCol='tfidf_vec')\n",
    "word2Vec = Word2Vec(vectorSize = 100, minCount = 5, inputCol = 'nostopwords', outputCol = 'word_2_vec', seed=123)\n",
    "pipeline         = Pipeline(stages=[tokenize_sentence, remove_stopwords, countVectorizer, tfiDF, word2Vec])\n",
    "\n",
    "reviews_pipeline = pipeline.fit(reviews_by_business_df)\n",
    "reviews_pipeline.write().overwrite().save('reviews_pipeline')"
   ],
   "metadata": {
    "collapsed": false
   }
  },
  {
   "cell_type": "code",
   "execution_count": 73,
   "outputs": [
    {
     "name": "stderr",
     "output_type": "stream",
     "text": [
      "                                                                                \r"
     ]
    },
    {
     "name": "stdout",
     "output_type": "stream",
     "text": [
      "root\n",
      " |-- business_id: string (nullable = true)\n",
      " |-- text: string (nullable = true)\n",
      " |-- tokens: array (nullable = true)\n",
      " |    |-- element: string (containsNull = true)\n",
      " |-- nostopwords: array (nullable = true)\n",
      " |    |-- element: string (containsNull = true)\n",
      " |-- tf: vector (nullable = true)\n",
      " |-- tfidf_vec: vector (nullable = true)\n",
      " |-- word_2_vec: vector (nullable = true)\n",
      "\n"
     ]
    }
   ],
   "source": [
    "reviews_pipeline = PipelineModel.load('reviews_pipeline')\n",
    "transformed_reviews_by_business = reviews_pipeline.transform(reviews_by_business_df)\n",
    "transformed_reviews_by_business.printSchema()"
   ],
   "metadata": {
    "collapsed": false
   }
  },
  {
   "cell_type": "markdown",
   "source": [
    "# Calculate cosine similarity between reviews of restaurants"
   ],
   "metadata": {
    "collapsed": false
   }
  },
  {
   "cell_type": "code",
   "execution_count": 74,
   "outputs": [],
   "source": [
    "def cosineSimilarity(vector1, vector2):\n",
    "    '''\n",
    "    This function calculates the cosine similarity between the restaurant feature vector and target restaurant feature vector\n",
    "    using formula (A.B) / (sqrt((A**2)  * sqrt((B**2)))\n",
    "    '''\n",
    "\n",
    "    dot_product = np.dot(vector1, vector2)\n",
    "    product_of_norms = np.sqrt(np.dot(vector1, vector1)) * np.sqrt(np.dot(vector2, vector2))\n",
    "\n",
    "    return float(dot_product/product_of_norms)"
   ],
   "metadata": {
    "collapsed": false
   }
  },
  {
   "cell_type": "code",
   "execution_count": 75,
   "outputs": [],
   "source": [
    "def getUserRecommendations(user_restaurants, all_restaurants_word2vec) :\n",
    "    '''\n",
    "    This function uses cosine similarity to recommend restaurants based for the user\n",
    "    '''\n",
    "\n",
    "    # schema for output DF\n",
    "    schema = StructType([\n",
    "                            StructField(\"business_id\", StringType(), True)\n",
    "                            ,StructField(\"cosine_similarity\", IntegerType(), True)\n",
    "                            ,StructField(\"prediction\", DoubleType(), True)\n",
    "                        ])\n",
    "\n",
    "    result_restaurants = spark.createDataFrame([], schema)\n",
    "\n",
    "    for rest_id in user_restaurants:\n",
    "\n",
    "        # Get the feature values i.e. review texts for the restaurants rated by the user\n",
    "        user_rated_restaurant_features = all_restaurants_word2vec.filter(lambda x: x[0] == rest_id).map(lambda x: x[1]).first()\n",
    "\n",
    "        # Calculate cosine similarity\n",
    "        similar_restaurants_rdd = all_restaurants_word2vec.filter(lambda x: x[0] != rest_id).map(lambda x: (x[0], cosineSimilarity(x[1], user_rated_restaurant_features)))\n",
    "\n",
    "        similar_restaurants_df = similar_restaurants_rdd.toDF(schema = ['business_id', 'cosine_similarity']).orderBy(desc('cosine_similarity'))\n",
    "\n",
    "        # Scale cosine similarity to ratings 1-5\n",
    "        similar_restaurants_df = similar_restaurants_df.withColumn(\"prediction\", round((similar_restaurants_df['cosine_similarity'] - 0) / (1 - 0) * (5 - 1) + 1, 2))\n",
    "\n",
    "        result_restaurants = result_restaurants.union(similar_restaurants_df)\n",
    "\n",
    "    result_restaurants = result_restaurants.dropDuplicates(['business_id']).orderBy(desc('cosine_similarity'))\n",
    "\n",
    "    return result_restaurants"
   ],
   "metadata": {
    "collapsed": false
   }
  },
  {
   "cell_type": "code",
   "execution_count": 76,
   "outputs": [],
   "source": [
    "def getRestaurantDetails(sim_rest):\n",
    "    '''\n",
    "    Function to get the recommended restaurant details based on ids.\n",
    "    '''\n",
    "\n",
    "    restaurant_details = sim_rest.join(business_df, on='business_id', how = 'inner') \\\n",
    "                                 .select(sim_rest.business_id, \\\n",
    "                                       sim_rest.cosine_similarity, business_df.name, \\\n",
    "                                       business_df.categories, business_df.stars, business_df.review_count,\n",
    "                                       business_df.latitude, business_df.longitude, sim_rest.prediction).filter(business_df.stars >= float(3.0))\n",
    "\n",
    "    return restaurant_details"
   ],
   "metadata": {
    "collapsed": false
   }
  },
  {
   "cell_type": "markdown",
   "source": [
    "# Find Best Recommendations"
   ],
   "metadata": {
    "collapsed": false
   }
  },
  {
   "cell_type": "markdown",
   "source": [
    "### 1. Best Restaurants based on past reviews of the user"
   ],
   "metadata": {
    "collapsed": false
   }
  },
  {
   "cell_type": "code",
   "execution_count": 77,
   "outputs": [
    {
     "name": "stderr",
     "output_type": "stream",
     "text": [
      "                                                                                \r"
     ]
    },
    {
     "name": "stdout",
     "output_type": "stream",
     "text": [
      "\n",
      "Restaurants reviewed by target user: FK6QC2bpIcAIwPQ5MGxPFg\n"
     ]
    },
    {
     "name": "stderr",
     "output_type": "stream",
     "text": [
      "                                                                                \r"
     ]
    },
    {
     "name": "stdout",
     "output_type": "stream",
     "text": [
      "+--------------------+--------------+--------------------+-----+\n",
      "|         business_id|          name|          categories|stars|\n",
      "+--------------------+--------------+--------------------+-----+\n",
      "|fVF5wayDyY6ZR5oJB...|      Lawrence|Canadian (New), F...|  4.5|\n",
      "|5T_Q3QMzEO0Bhd4r-...|La Bête à Pain|Bakeries, Food, C...|  4.5|\n",
      "|5s51wuld6gIIiERpD...|   Antep Kabab|Turkish, Restaurants|  4.5|\n",
      "|_K63HbZBVQSBCvQic...|Satay Brothers|Malaysian, Restau...|  4.0|\n",
      "|oNn16x2Ubv60RAibm...|     Lola Rosa|Event Planning & ...|  4.5|\n",
      "|LxiwqfN59A1pDdYd7...|         Biirū|Nightlife, Ramen,...|  4.0|\n",
      "+--------------------+--------------+--------------------+-----+\n",
      "\n"
     ]
    },
    {
     "name": "stderr",
     "output_type": "stream",
     "text": [
      "                                                                                \r"
     ]
    },
    {
     "name": "stdout",
     "output_type": "stream",
     "text": [
      "\n",
      "Recommendations for User: FK6QC2bpIcAIwPQ5MGxPFg\n"
     ]
    },
    {
     "name": "stderr",
     "output_type": "stream",
     "text": [
      "[Stage 5153:============================>                           (4 + 4) / 8]\r"
     ]
    },
    {
     "name": "stdout",
     "output_type": "stream",
     "text": [
      "+--------------------+--------------------+--------------------+-----+------------+----------+\n",
      "|         business_id|                name|          categories|stars|review_count|prediction|\n",
      "+--------------------+--------------------+--------------------+-----+------------+----------+\n",
      "|p94oHG7K9BqcMVVOl...|              larrys|Bars, Nightlife, ...|  4.0|          88|      4.94|\n",
      "|ePXn4TX9DkfAeDK8V...|Prohibition Montréal|Breakfast & Brunc...|  4.0|         143|      4.93|\n",
      "|KHcqvfwkGv6k6KtLD...|             Sparrow|Cocktail Bars, Am...|  4.0|         199|      4.93|\n",
      "|i2dnic7VdQ3NyiQQW...|             Foiegwa|Restaurants, Brea...|  4.0|         192|      4.92|\n",
      "|qvlotPdV7KjiVRSq_...|             Lili.Co|Breakfast & Brunc...|  4.0|          49|      4.91|\n",
      "|58APdML-PG_OD4El2...|           Le Cartet|Delicatessen, Foo...|  4.0|         473|      4.91|\n",
      "|bMiyGPaMqF0svjseW...|             Vallier|American (New), F...|  3.5|          99|       4.9|\n",
      "|I_miJsfTzehhWxNL2...|             Hopkins|Canadian (New), R...|  3.5|          35|       4.9|\n",
      "|VR6GpWIda3SfvPC-l...|           Tuck Shop|Canadian (New), A...|  4.5|          66|       4.9|\n",
      "|J6qWt6XIUmIGFHX5r...|            L'Avenue|Burgers, American...|  4.5|        1133|      4.89|\n",
      "+--------------------+--------------------+--------------------+-----+------------+----------+\n",
      "only showing top 10 rows\n",
      "\n"
     ]
    },
    {
     "name": "stderr",
     "output_type": "stream",
     "text": [
      "                                                                                \r"
     ]
    }
   ],
   "source": [
    "from pyspark.sql.functions import rand\n",
    "# Selecting a random user\n",
    "# usr_id = reviews_df.select('user_id').orderBy(rand()).limit(1).collect()\n",
    "# target_user = [val.user_id for val in usr_id][0]\n",
    "target_user = 'FK6QC2bpIcAIwPQ5MGxPFg'\n",
    "\n",
    "#Create user profile from the reviews the user has given\n",
    "user_reviews = reviews_df_train.filter( (reviews_df_train.user_id == target_user) & (reviews_df_train.stars >= float(3.0)) )\\\n",
    "                        .select(reviews_df_train.business_id).distinct()\n",
    "\n",
    "#Here we use collect only to retrieve user reviewed restaurants, so it is safe\n",
    "user_restaurants = [val.business_id for val in user_reviews.collect()]\n",
    "user_past_restaurants = user_reviews.join(business_df, on='business_id', how = 'inner')\n",
    "\n",
    "print(f'\\nRestaurants reviewed by target user: {target_user}')\n",
    "user_past_restaurants.select('business_id', 'name', 'categories', 'stars').show()\n",
    "\n",
    "# (business_id => [reviews word vectors] )\n",
    "all_restaurant_word2vec = transformed_reviews_by_business.select('business_id', 'word_2_vec') \\\n",
    "                                                    .rdd.map(lambda x: (x[0], x[1]))\n",
    "\n",
    "#Fetch recommendations for target user\n",
    "recommended_restaurants = getUserRecommendations(user_restaurants, all_restaurant_word2vec)\n",
    "\n",
    "#Get details about the recommended restaurants\n",
    "recommended_restaurants_details = getRestaurantDetails(recommended_restaurants)\n",
    "\n",
    "print(f'\\nRecommendations for User: {target_user}')\n",
    "recommended_restaurants_details.drop('cosine_similarity','latitude', 'longitude') \\\n",
    "                           .orderBy(desc('cosine_similarity')).show(10)\n"
   ],
   "metadata": {
    "collapsed": false
   }
  },
  {
   "cell_type": "markdown",
   "source": [
    "### 2. Best Restaurants Recommendations based on a Keyword"
   ],
   "metadata": {
    "collapsed": false
   }
  },
  {
   "cell_type": "code",
   "execution_count": 78,
   "outputs": [],
   "source": [
    "def keyWordsRecommendation(keyword, all_restaurant_word2vec):\n",
    "\n",
    "    keyword_df = sc.parallelize([(0, keyword)]).toDF(['business_id', 'text'])\n",
    "\n",
    "    #Create word vector from keyword\n",
    "    keyword_df = reviews_pipeline.transform(keyword_df)\n",
    "    #Here we collect only one row, so it is safe\n",
    "    keyword_w2v = keyword_df.select('word_2_vec').collect()[0][0]\n",
    "\n",
    "    # Fetch cosine similarity\n",
    "    similar_restaurants_rdd = all_restaurant_word2vec.map(lambda x: (x[0], cosineSimilarity(x[1], keyword_w2v)))\n",
    "\n",
    "    similar_restaurants = similar_restaurants_rdd.toDF(['business_id', 'cosine_similarity']) \\\n",
    "                                             .orderBy(desc('cosine_similarity')).limit(10)\n",
    "\n",
    "    # Scale cosine similarity to ratings 1-5\n",
    "    similar_restaurants = similar_restaurants.withColumn(\"prediction\", round((similar_restaurants['cosine_similarity'] - 0) / (1 - 0) * (5 - 1) + 1, 2))\n",
    "\n",
    "    return similar_restaurants\n"
   ],
   "metadata": {
    "collapsed": false
   }
  },
  {
   "cell_type": "code",
   "execution_count": 79,
   "outputs": [
    {
     "name": "stdout",
     "output_type": "stream",
     "text": [
      "\n",
      "Restaurants similar to keyword - Spicy Indian Food\n"
     ]
    },
    {
     "name": "stderr",
     "output_type": "stream",
     "text": [
      "                                                                                \r"
     ]
    },
    {
     "name": "stdout",
     "output_type": "stream",
     "text": [
      "+--------------------+--------------------+--------------------+-----+------------+\n",
      "|         business_id|                name|          categories|stars|review_count|\n",
      "+--------------------+--------------------+--------------------+-----+------------+\n",
      "|f7RXwcus_-EOsR0q5...|               Didar| Indian, Restaurants|  4.5|          38|\n",
      "|zQwAPLeF1hSXLIHjy...|   Restaurant Makkah|Indian, Afghan, H...|  4.5|          17|\n",
      "|amlwSiqE8WrghAHO7...|    Thai Imagination|Asian Fusion, Chi...|  4.0|          10|\n",
      "|Aol8whdcT7BfnhUCn...|    Étoile des Indes|Restaurants, Midd...|  4.0|          24|\n",
      "|A_05gZ2QwayLb0YeQ...|     Chennai Express| Restaurants, Indian|  4.0|          53|\n",
      "|eAOWvwdmCKIgFYx1a...|          Bab Sharqi|Syrian, Caterers,...|  4.0|           5|\n",
      "|2f6N22VYSwEndSq7o...|   Restaurant Ganges| Restaurants, Indian|  3.5|          25|\n",
      "|dckVjwfxYLVjDH516...| Restaurant Salateen|Restaurants, Chin...|  3.5|           5|\n",
      "|-YxR1MgbIe3k__YBd...|Thali Cuisine Ind...|Food, Indian, Res...|  3.5|         137|\n",
      "|C18d75hn11fpk6vWD...|   Restaurant Shezan|Restaurants, Indi...|  3.0|           5|\n",
      "+--------------------+--------------------+--------------------+-----+------------+\n",
      "\n"
     ]
    }
   ],
   "source": [
    "keyword = 'Spicy Indian Food'\n",
    "\n",
    "print(f'\\nRestaurants similar to keyword - {keyword}')\n",
    "similar_restaurants = keyWordsRecommendation(keyword, all_restaurant_word2vec)\n",
    "\n",
    "# Fetch details of similar restaurants\n",
    "similar_restaurants = getRestaurantDetails(similar_restaurants)\n",
    "similar_restaurants.select('business_id', 'name','categories', 'stars','review_count').orderBy(desc('stars')).show()"
   ],
   "metadata": {
    "collapsed": false
   }
  },
  {
   "cell_type": "markdown",
   "source": [
    "# Evaluation"
   ],
   "metadata": {
    "collapsed": false
   }
  },
  {
   "cell_type": "code",
   "execution_count": 80,
   "outputs": [],
   "source": [
    "reviews_df_test = reviews_df_test.withColumnRenamed(\"stars\", \"actual_stars\")\n",
    "evaluation = recommended_restaurants_details.join(reviews_df_test.where((col('user_id') == target_user)),['business_id'],'inner')"
   ],
   "metadata": {
    "collapsed": false
   }
  },
  {
   "cell_type": "code",
   "execution_count": 81,
   "outputs": [
    {
     "name": "stderr",
     "output_type": "stream",
     "text": [
      "[Stage 5209:==========================================>           (11 + 3) / 14]\r"
     ]
    },
    {
     "name": "stdout",
     "output_type": "stream",
     "text": [
      "rmse: 0.9740009126165012\n"
     ]
    },
    {
     "name": "stderr",
     "output_type": "stream",
     "text": [
      "                                                                                \r"
     ]
    }
   ],
   "source": [
    "evaluator = RegressionEvaluator(metricName=\"rmse\", labelCol=\"actual_stars\",predictionCol=\"prediction\")\n",
    "rmse = evaluator.evaluate(evaluation)\n",
    "print(\"rmse:\",rmse)"
   ],
   "metadata": {
    "collapsed": false
   }
  },
  {
   "cell_type": "markdown",
   "source": [
    "# TF-IDF vs Word2Vec"
   ],
   "metadata": {
    "collapsed": false
   }
  },
  {
   "cell_type": "code",
   "execution_count": 82,
   "outputs": [],
   "source": [
    "def CompareWord2VecAndTFIDF(rest_id_1, res2_id_2):\n",
    "\n",
    "    evaluation_restaurants2 = business_df.filter((col(\"business_id\") == rest_id_1) | (col(\"business_id\") == res2_id_2)).select('name','categories')\n",
    "\n",
    "    #Word2Vec\n",
    "    all_restaurants_word2vec = transformed_reviews_by_business.select('business_id', 'word_2_vec') \\\n",
    "                                                        .rdd.map(lambda x: (x[0], x[1]))\n",
    "\n",
    "    user_rated_restaurant_features = all_restaurants_word2vec.filter(lambda x: x[0] == rest_id_1).map(lambda x: x[1]).first()\n",
    "\n",
    "    similar_restaurants_rdd = all_restaurants_word2vec.filter(lambda x: x[0] == res2_id_2).map(lambda x: (x[0], cosineSimilarity(x[1], user_rated_restaurant_features)))\n",
    "\n",
    "\n",
    "    similar_restaurants_df = similar_restaurants_rdd.toDF(schema = ['business_id', 'cosine_similarity']).orderBy(desc('cosine_similarity'))\n",
    "\n",
    "    word2Vec_value = similar_restaurants_df.first()['cosine_similarity']\n",
    "\n",
    "    # TF-IDF\n",
    "    all_restaurants_tfidf = transformed_reviews_by_business.select('business_id', 'tfidf_vec') \\\n",
    "                                                        .rdd.map(lambda x: (x[0], x[1]))\n",
    "\n",
    "    user_rated_restaurant_features = all_restaurants_tfidf.filter(lambda x: x[0] == rest_id_1).map(lambda x: x[1]).first()\n",
    "\n",
    "    similar_restaurants_rdd = all_restaurants_tfidf.filter(lambda x: x[0] == res2_id_2).map(lambda x: (x[0], cosineSimilarity(x[1], user_rated_restaurant_features)))\n",
    "\n",
    "\n",
    "    similar_restaurants_df = similar_restaurants_rdd.toDF(schema = ['business_id', 'cosine_similarity']).orderBy(desc('cosine_similarity'))\n",
    "\n",
    "    tfiDF_value = similar_restaurants_df.first()['cosine_similarity']\n",
    "\n",
    "    evaluation_restaurants2.show(truncate=False)\n",
    "    print(f\"Cosine similarity using Word2Vec: {word2Vec_value}\")\n",
    "    print(f\"Cosine similarity using TF_IDF: {tfiDF_value}\")\n"
   ],
   "metadata": {
    "collapsed": false
   }
  },
  {
   "cell_type": "code",
   "execution_count": 83,
   "outputs": [
    {
     "name": "stderr",
     "output_type": "stream",
     "text": [
      "                                                                                \r"
     ]
    },
    {
     "name": "stdout",
     "output_type": "stream",
     "text": [
      "+------------+--------------------------------------------------------------------------------+\n",
      "|name        |categories                                                                      |\n",
      "+------------+--------------------------------------------------------------------------------+\n",
      "|Poutineville|Restaurants, Poutineries                                                        |\n",
      "|Poutineville|Poutineries, Canadian (New), Restaurants, American (New), American (Traditional)|\n",
      "+------------+--------------------------------------------------------------------------------+\n",
      "\n",
      "Cosine similarity using Word2Vec: 0.7852819611358537\n",
      "Cosine similarity using TF_IDF: 0.6552345257141844\n"
     ]
    }
   ],
   "source": [
    "CompareWord2VecAndTFIDF(\"mm2wLW24ESxNIEL2bjseaQ\",\"HjvqWX4dEGv9kxH55oolpA\")"
   ],
   "metadata": {
    "collapsed": false
   }
  }
 ],
 "metadata": {
  "kernelspec": {
   "display_name": "Python 3 (ipykernel)",
   "language": "python",
   "name": "python3"
  },
  "language_info": {
   "codemirror_mode": {
    "name": "ipython",
    "version": 3
   },
   "file_extension": ".py",
   "mimetype": "text/x-python",
   "name": "python",
   "nbconvert_exporter": "python",
   "pygments_lexer": "ipython3",
   "version": "3.9.7"
  }
 },
 "nbformat": 4,
 "nbformat_minor": 1
}
