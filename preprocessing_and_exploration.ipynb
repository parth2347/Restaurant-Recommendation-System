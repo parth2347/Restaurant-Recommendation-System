{
 "cells": [
  {
   "cell_type": "markdown",
   "metadata": {},
   "source": [
    "## Import Libraries"
   ]
  },
  {
   "cell_type": "code",
   "execution_count": 21,
   "metadata": {},
   "outputs": [],
   "source": [
    "from pyspark.sql import SparkSession\n",
    "import matplotlib.pyplot as plt\n",
    "from pyspark.sql.functions import count"
   ]
  },
  {
   "cell_type": "code",
   "execution_count": 22,
   "metadata": {},
   "outputs": [],
   "source": [
    "spark = SparkSession \\\n",
    "        .builder \\\n",
    "        .appName(\"RestaurantRecommendation\") \\\n",
    "        .getOrCreate()\n",
    "sc = spark.sparkContext"
   ]
  },
  {
   "cell_type": "markdown",
   "metadata": {},
   "source": [
    "## Read Data"
   ]
  },
  {
   "cell_type": "code",
   "execution_count": 23,
   "metadata": {},
   "outputs": [
    {
     "name": "stderr",
     "output_type": "stream",
     "text": [
      "                                                                                \r"
     ]
    }
   ],
   "source": [
    "data_path = '/Users/ashwinraghunath/Downloads/archive_3/'\n",
    "\n",
    "business_dataframe = spark.read.json(data_path + 'yelp_academic_dataset_business.json')\n",
    "reviews_dataframe  = spark.read.json(data_path + 'yelp_academic_dataset_review.json')\n",
    "users_dataframe  = spark.read.json(data_path + 'yelp_academic_dataset_user.json')"
   ]
  },
  {
   "cell_type": "code",
   "execution_count": 24,
   "metadata": {},
   "outputs": [
    {
     "name": "stdout",
     "output_type": "stream",
     "text": [
      "Business Dataframe Schema:\n",
      "root\n",
      " |-- address: string (nullable = true)\n",
      " |-- attributes: struct (nullable = true)\n",
      " |    |-- AcceptsInsurance: string (nullable = true)\n",
      " |    |-- AgesAllowed: string (nullable = true)\n",
      " |    |-- Alcohol: string (nullable = true)\n",
      " |    |-- Ambience: string (nullable = true)\n",
      " |    |-- BYOB: string (nullable = true)\n",
      " |    |-- BYOBCorkage: string (nullable = true)\n",
      " |    |-- BestNights: string (nullable = true)\n",
      " |    |-- BikeParking: string (nullable = true)\n",
      " |    |-- BusinessAcceptsBitcoin: string (nullable = true)\n",
      " |    |-- BusinessAcceptsCreditCards: string (nullable = true)\n",
      " |    |-- BusinessParking: string (nullable = true)\n",
      " |    |-- ByAppointmentOnly: string (nullable = true)\n",
      " |    |-- Caters: string (nullable = true)\n",
      " |    |-- CoatCheck: string (nullable = true)\n",
      " |    |-- Corkage: string (nullable = true)\n",
      " |    |-- DietaryRestrictions: string (nullable = true)\n",
      " |    |-- DogsAllowed: string (nullable = true)\n",
      " |    |-- DriveThru: string (nullable = true)\n",
      " |    |-- GoodForDancing: string (nullable = true)\n",
      " |    |-- GoodForKids: string (nullable = true)\n",
      " |    |-- GoodForMeal: string (nullable = true)\n",
      " |    |-- HairSpecializesIn: string (nullable = true)\n",
      " |    |-- HappyHour: string (nullable = true)\n",
      " |    |-- HasTV: string (nullable = true)\n",
      " |    |-- Music: string (nullable = true)\n",
      " |    |-- NoiseLevel: string (nullable = true)\n",
      " |    |-- Open24Hours: string (nullable = true)\n",
      " |    |-- OutdoorSeating: string (nullable = true)\n",
      " |    |-- RestaurantsAttire: string (nullable = true)\n",
      " |    |-- RestaurantsCounterService: string (nullable = true)\n",
      " |    |-- RestaurantsDelivery: string (nullable = true)\n",
      " |    |-- RestaurantsGoodForGroups: string (nullable = true)\n",
      " |    |-- RestaurantsPriceRange2: string (nullable = true)\n",
      " |    |-- RestaurantsReservations: string (nullable = true)\n",
      " |    |-- RestaurantsTableService: string (nullable = true)\n",
      " |    |-- RestaurantsTakeOut: string (nullable = true)\n",
      " |    |-- Smoking: string (nullable = true)\n",
      " |    |-- WheelchairAccessible: string (nullable = true)\n",
      " |    |-- WiFi: string (nullable = true)\n",
      " |-- business_id: string (nullable = true)\n",
      " |-- categories: string (nullable = true)\n",
      " |-- city: string (nullable = true)\n",
      " |-- hours: struct (nullable = true)\n",
      " |    |-- Friday: string (nullable = true)\n",
      " |    |-- Monday: string (nullable = true)\n",
      " |    |-- Saturday: string (nullable = true)\n",
      " |    |-- Sunday: string (nullable = true)\n",
      " |    |-- Thursday: string (nullable = true)\n",
      " |    |-- Tuesday: string (nullable = true)\n",
      " |    |-- Wednesday: string (nullable = true)\n",
      " |-- is_open: long (nullable = true)\n",
      " |-- latitude: double (nullable = true)\n",
      " |-- longitude: double (nullable = true)\n",
      " |-- name: string (nullable = true)\n",
      " |-- postal_code: string (nullable = true)\n",
      " |-- review_count: long (nullable = true)\n",
      " |-- stars: double (nullable = true)\n",
      " |-- state: string (nullable = true)\n",
      "\n",
      "Reviews Dataframe Schema:\n",
      "root\n",
      " |-- business_id: string (nullable = true)\n",
      " |-- cool: long (nullable = true)\n",
      " |-- date: string (nullable = true)\n",
      " |-- funny: long (nullable = true)\n",
      " |-- review_id: string (nullable = true)\n",
      " |-- stars: double (nullable = true)\n",
      " |-- text: string (nullable = true)\n",
      " |-- useful: long (nullable = true)\n",
      " |-- user_id: string (nullable = true)\n",
      "\n",
      "Users Dataframe Schema:\n",
      "root\n",
      " |-- average_stars: double (nullable = true)\n",
      " |-- compliment_cool: long (nullable = true)\n",
      " |-- compliment_cute: long (nullable = true)\n",
      " |-- compliment_funny: long (nullable = true)\n",
      " |-- compliment_hot: long (nullable = true)\n",
      " |-- compliment_list: long (nullable = true)\n",
      " |-- compliment_more: long (nullable = true)\n",
      " |-- compliment_note: long (nullable = true)\n",
      " |-- compliment_photos: long (nullable = true)\n",
      " |-- compliment_plain: long (nullable = true)\n",
      " |-- compliment_profile: long (nullable = true)\n",
      " |-- compliment_writer: long (nullable = true)\n",
      " |-- cool: long (nullable = true)\n",
      " |-- elite: string (nullable = true)\n",
      " |-- fans: long (nullable = true)\n",
      " |-- friends: string (nullable = true)\n",
      " |-- funny: long (nullable = true)\n",
      " |-- name: string (nullable = true)\n",
      " |-- review_count: long (nullable = true)\n",
      " |-- useful: long (nullable = true)\n",
      " |-- user_id: string (nullable = true)\n",
      " |-- yelping_since: string (nullable = true)\n",
      "\n"
     ]
    }
   ],
   "source": [
    "print(\"Business Dataframe Schema:\")\n",
    "business_dataframe.printSchema()\n",
    "\n",
    "print(\"Reviews Dataframe Schema:\")\n",
    "reviews_dataframe.printSchema()\n",
    "\n",
    "print(\"Users Dataframe Schema:\")\n",
    "users_dataframe.printSchema()"
   ]
  },
  {
   "cell_type": "markdown",
   "metadata": {},
   "source": [
    "## Filter Restaurant businesses for Montreal"
   ]
  },
  {
   "cell_type": "code",
   "execution_count": 36,
   "metadata": {},
   "outputs": [
    {
     "name": "stderr",
     "output_type": "stream",
     "text": [
      "                                                                                \r"
     ]
    },
    {
     "name": "stdout",
     "output_type": "stream",
     "text": [
      "Montreal Restaurants Count: 4171\n",
      "+--------------------+--------------------+--------------------+--------+-----+-----------+-------------+--------------+-----+------------+--------------------+\n",
      "|         business_id|                name|             address|    city|state|postal_code|     latitude|     longitude|stars|review_count|          categories|\n",
      "+--------------------+--------------------+--------------------+--------+-----+-----------+-------------+--------------+-----+------------+--------------------+\n",
      "|LoRef3ChgZKbxUio-...|                Amir|5252 Rue Jean Tal...|Montréal|   QC|    H4P 2A7|45.4948701572|-73.6519035927|  3.0|          18|Restaurants, Leba...|\n",
      "|6GHwgKNlvfIMUpFax...|L'Artisan Piadineria|3421 Rue Saint-Denis|Montréal|   QC|    H2L 3L2| 45.517368812|-73.5679399967|  4.0|           9|Sandwiches, Itali...|\n",
      "+--------------------+--------------------+--------------------+--------+-----+-----------+-------------+--------------+-----+------------+--------------------+\n",
      "only showing top 2 rows\n",
      "\n"
     ]
    }
   ],
   "source": [
    "montreal_restaurants = business_dataframe.select('business_id', 'name',  'address', 'city',\n",
    "                                          'state', 'postal_code', 'latitude', 'longitude', 'stars', 'review_count', 'categories') \\\n",
    "                                    .filter( ((business_dataframe.city == 'Montreal') | (business_dataframe.city == 'Montréal')) & (business_dataframe.categories.contains('Restaurants') ) )\n",
    "\n",
    "print(f'Montreal Restaurants Count: {montreal_restaurants.count()}')"
   ]
  },
  {
   "cell_type": "markdown",
   "metadata": {},
   "source": [
    "# Extract restaurant reviews in Montreal, filtered by matching the restaurant IDs with the ones obtained in the previous step"
   ]
  },
  {
   "cell_type": "code",
   "execution_count": 37,
   "metadata": {},
   "outputs": [
    {
     "name": "stderr",
     "output_type": "stream",
     "text": [
      "                                                                                \r"
     ]
    },
    {
     "name": "stdout",
     "output_type": "stream",
     "text": [
      "Montreal Restaurants Reviews Count: 139233\n",
      "+--------------------+--------------------+--------------------+-----+--------------------+\n",
      "|         business_id|             user_id|           review_id|stars|                text|\n",
      "+--------------------+--------------------+--------------------+-----+--------------------+\n",
      "|H464UiJ5c7q5dAJ14...|iDJCA-MMb8LRpBEN5...|rqGuZNdCcIVqqlmmj...|  4.0|Had a wonderful m...|\n",
      "|LLOCKcFIKbeWmiyCG...|aFXA_ZCpPWhsHVg1U...|b9dq4-FW7DZPGvBcy...|  4.0|Huge breakfasts s...|\n",
      "+--------------------+--------------------+--------------------+-----+--------------------+\n",
      "only showing top 2 rows\n",
      "\n"
     ]
    }
   ],
   "source": [
    "montreal_restaurant_reviews = reviews_dataframe.join(montreal_restaurants, on = 'business_id', how = 'inner') \\\n",
    "                          .select(reviews_dataframe.business_id, reviews_dataframe.user_id, reviews_dataframe.review_id, reviews_dataframe.stars, reviews_dataframe.text)\n",
    "\n",
    "print(f'Montreal Restaurants Reviews Count: {montreal_restaurant_reviews.count()}')\n",
    "montreal_restaurant_reviews.show(2)"
   ]
  },
  {
   "cell_type": "markdown",
   "metadata": {},
   "source": [
    "# Filter users that have provided reviews to restaurants extracted"
   ]
  },
  {
   "cell_type": "code",
   "execution_count": 38,
   "metadata": {},
   "outputs": [],
   "source": [
    "montreal_restaurant_users = users_dataframe.join(montreal_restaurant_reviews, on = 'user_id', how = 'inner') \\\n",
    "                          .select(users_dataframe.user_id, users_dataframe.name, users_dataframe.review_count, users_dataframe.yelping_since,\n",
    "                                  users_dataframe.useful, users_dataframe.funny , users_dataframe.cool , users_dataframe.fans , users_dataframe.average_stars)\n"
   ]
  },
  {
   "cell_type": "markdown",
   "metadata": {},
   "source": [
    "# Save sample files"
   ]
  },
  {
   "cell_type": "code",
   "execution_count": 28,
   "metadata": {},
   "outputs": [
    {
     "name": "stderr",
     "output_type": "stream",
     "text": [
      "                                                                                \r"
     ]
    }
   ],
   "source": [
    "montreal_restaurants.coalesce(1).write.parquet('Sample_Datasets/montreal_business')\n",
    "montreal_restaurant_reviews.coalesce(1).write.parquet('Sample_Datasets/montreal_reviews')\n",
    "montreal_restaurant_users.coalesce(1).write.parquet('Sample_Datasets/montreal_users')"
   ]
  },
  {
   "cell_type": "markdown",
   "metadata": {},
   "source": [
    "# Data exploration"
   ]
  },
  {
   "cell_type": "markdown",
   "metadata": {},
   "source": [
    "## What is the distribution of restaurant ratings in Montreal?"
   ]
  },
  {
   "cell_type": "code",
   "execution_count": 29,
   "metadata": {},
   "outputs": [
    {
     "name": "stderr",
     "output_type": "stream",
     "text": [
      "                                                                                \r"
     ]
    },
    {
     "data": {
      "text/plain": [
       "Text(0.5, 1.0, 'Distribution of restaurant ratings in Montreal')"
      ]
     },
     "execution_count": 29,
     "metadata": {},
     "output_type": "execute_result"
    },
    {
     "data": {
      "image/png": "[encoded data removed]",
      "text/plain": [
       "<Figure size 432x288 with 1 Axes>"
      ]
     },
     "metadata": {
      "needs_background": "light"
     },
     "output_type": "display_data"
    }
   ],
   "source": [
    "review_counts = montreal_restaurant_reviews.groupBy('stars').agg(count('*').alias('count'))\n",
    "stars = [row[0] for row in review_counts.collect()]\n",
    "counts = [row[1] for row in review_counts.collect()]\n",
    "\n",
    "plt.hist(stars, weights=counts,\n",
    "         bins=[0.5,1.5,2.5,3.5,4.5,5.5],\n",
    "         alpha=0.5, histtype='barstacked',\n",
    "         color='cyan',\n",
    "         edgecolor='black')\n",
    "plt.ylabel('Frequency')\n",
    "plt.xlabel('Rating')\n",
    "plt.title('Distribution of restaurant ratings in Montreal')"
   ]
  },
  {
   "cell_type": "markdown",
   "metadata": {},
   "source": [
    "## What is the distribution of ratings of each restaurant in Montreal?"
   ]
  },
  {
   "cell_type": "code",
   "execution_count": 30,
   "metadata": {},
   "outputs": [
    {
     "data": {
      "image/png": "[encoded data removed]",
      "text/plain": [
       "<Figure size 432x288 with 1 Axes>"
      ]
     },
     "metadata": {
      "needs_background": "light"
     },
     "output_type": "display_data"
    }
   ],
   "source": [
    "restaurant_reviews_counts = montreal_restaurants.groupBy('stars').agg(count('*').alias('count'))\n",
    "\n",
    "stars = [row[0] for row in restaurant_reviews_counts.collect()]\n",
    "counts = [row[1] for row in restaurant_reviews_counts.collect()]\n",
    "\n",
    "plt.hist(stars, bins=[0.5, 1.5, 2.5, 3.5, 4.5, 5.5], weights=counts, alpha=0.8,\n",
    "histtype='barstacked', color='cyan', edgecolor='black')\n",
    "plt.ylabel('Frequency')\n",
    "plt.xlabel('Rating')\n",
    "plt.title('Distribution of ratings of each restaurant in Montreal')\n",
    "\n",
    "plt.grid(axis='y', alpha=0.5)\n",
    "plt.show()"
   ]
  }
 ],
 "metadata": {
  "kernelspec": {
   "display_name": "Python 3 (ipykernel)",
   "language": "python",
   "name": "python3"
  },
  "language_info": {
   "codemirror_mode": {
    "name": "ipython",
    "version": 3
   },
   "file_extension": ".py",
   "mimetype": "text/x-python",
   "name": "python",
   "nbconvert_exporter": "python",
   "pygments_lexer": "ipython3",
   "version": "3.9.7"
  }
 },
 "nbformat": 4,
 "nbformat_minor": 1
}
