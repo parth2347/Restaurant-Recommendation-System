{
 "cells": [
  {
   "cell_type": "markdown",
   "metadata": {},
   "source": [
    "# Import Libraries"
   ]
  },
  {
   "cell_type": "code",
   "execution_count": 152,
   "metadata": {},
   "outputs": [],
   "source": [
    "\n",
    "from pyspark.ml.recommendation import ALS\n",
    "from pyspark.sql import SparkSession\n",
    "from pyspark.sql.functions import col\n",
    "from pyspark.ml.feature import StringIndexer\n",
    "from pyspark.ml import Pipeline\n",
    "from pyspark.ml.evaluation import RegressionEvaluator\n",
    "from pyspark.sql.types import StructType,StructField,IntegerType\n",
    "from pyspark.sql.functions import stddev,mean,avg,lit\n",
    "import numpy as np\n",
    "from pyspark.sql.functions import round\n",
    "\n",
    "\n"
   ]
  },
  {
   "cell_type": "markdown",
   "metadata": {},
   "source": [
    "# Sampled data-file paths"
   ]
  },
  {
   "cell_type": "code",
   "execution_count": 2,
   "metadata": {},
   "outputs": [],
   "source": [
    "# file paths\n",
    "business_file=\"Sample_Datasets/montreal_business/part-00000-b5f251d0-79e6-47a8-a405-042eb7b7894e-c000.snappy.parquet\"\n",
    "reviews_file=\"Sample_Datasets/montreal_reviews/part-00000-f0e4463e-0ac9-402e-b995-734cbefc958e-c000.snappy.parquet\"\n",
    "users_file=\"Sample_Datasets/montreal_users/part-00000-a7d49d78-89a7-478f-a577-0efe02dca047-c000.snappy.parquet\"\n"
   ]
  },
  {
   "cell_type": "markdown",
   "metadata": {},
   "source": [
    "# Initialize spark session"
   ]
  },
  {
   "cell_type": "code",
   "execution_count": 3,
   "metadata": {
    "jupyter": {
     "outputs_hidden": true
    }
   },
   "outputs": [],
   "source": [
    "app_name=\"Collaborative filtering for restaurant recommendation\"\n",
    "\n",
    "def init_spark():\n",
    "    spark = SparkSession \\\n",
    "        .builder \\\n",
    "        .appName(app_name) \\\n",
    "        .getOrCreate()\n",
    "    return spark\n"
   ]
  },
  {
   "cell_type": "markdown",
   "metadata": {},
   "source": [
    "# Load Dataset in Apache Spark"
   ]
  },
  {
   "cell_type": "code",
   "execution_count": 4,
   "metadata": {},
   "outputs": [],
   "source": [
    "spark=init_spark()\n",
    "business_df = spark.read.parquet(business_file)\n",
    "reviews_df=spark.read.parquet(reviews_file)\n",
    "users_df=spark.read.parquet(users_file)"
   ]
  },
  {
   "cell_type": "markdown",
   "metadata": {},
   "source": [
    "## Selecting required features\n",
    "\n",
    "In our project, we are only concerned with a subset of columns from the dataset, specifically those that are relevant to our goal of recommending restaurants in Montreal. Therefore, we extract the necessary features from the business_df table, including the id, name, stars, category. \n",
    "Similarly, we filter the reviews_df table to include only reviews for the selected restaurants by performing an inner join with business_df."
   ]
  },
  {
   "cell_type": "code",
   "execution_count": 5,
   "metadata": {},
   "outputs": [],
   "source": [
    "business_df = business_df.select(\"business_id\",\"name\", \"stars\", \n",
    "                                 \"review_count\", \"address\", \"city\", \"state\", \"postal_code\", \"longitude\", \n",
    "                                 \"categories\", \"latitude\").withColumnRenamed(\"stars\", \"stars_restaurant\")\n",
    "reviews_df = reviews_df.join(business_df, on='business_id', how='inner')"
   ]
  },
  {
   "cell_type": "markdown",
   "metadata": {},
   "source": [
    "## Preparing Data for ALS: Convert String to index\n",
    "Prior to initiating the modeling process, it is essential to transform all the relevant columns to integer type for compatibility with the ALS model from pyspark. The columns requiring conversion are the business_id and user_id. We accomplish this by leveraging the StringIndexer function, which we imported from pyspark.ml.feature."
   ]
  },
  {
   "cell_type": "code",
   "execution_count": 6,
   "metadata": {},
   "outputs": [
    {
     "data": {
      "text/plain": [
       "DataFrame[business_id: string, user_id: string, business_id_index: double, user_id_index: double, stars: double, categories: string]"
      ]
     },
     "execution_count": 6,
     "metadata": {},
     "output_type": "execute_result"
    }
   ],
   "source": [
    "indexer = [StringIndexer(inputCol=column, outputCol=column+\"_index\") for column in ['business_id', 'user_id']]\n",
    "pipeline = Pipeline(stages=indexer)\n",
    "transformed = pipeline.fit(reviews_df).transform(reviews_df)\n",
    "transformed.select(['business_id', 'user_id','business_id_index', 'user_id_index','stars','categories'])\n"
   ]
  },
  {
   "cell_type": "markdown",
   "metadata": {},
   "source": [
    "## Spliting the dataset into training and testing subsets "
   ]
  },
  {
   "cell_type": "markdown",
   "metadata": {},
   "source": [
    "Setting a seed value as 3 to make randomsplit output deterministic"
   ]
  },
  {
   "cell_type": "code",
   "execution_count": 7,
   "metadata": {},
   "outputs": [],
   "source": [
    "(training, test) = transformed.randomSplit([0.8, 0.2],3)"
   ]
  },
  {
   "cell_type": "code",
   "execution_count": 8,
   "metadata": {},
   "outputs": [
    {
     "name": "stdout",
     "output_type": "stream",
     "text": [
      "Global Average: 3.8922836512555232\n",
      "Global Average: 3.8922836512555232\n"
     ]
    }
   ],
   "source": [
    "# Compute the global mean\n",
    "average = training.select('user_id','stars').withColumn(\"user_id\",lit(1)).groupBy('user_id').mean()\n",
    "global_average = average.select('avg(stars)').collect()[0][0]\n",
    "\n",
    "print(\"Global Average:\",str(global_average))\n",
    "global_mean = training.agg(avg('stars')).collect()[0][0]\n",
    "print(\"Global Average:\",str(global_mean))\n"
   ]
  },
  {
   "cell_type": "markdown",
   "metadata": {},
   "source": [
    "# Prediction using global average for comparison"
   ]
  },
  {
   "cell_type": "code",
   "execution_count": 9,
   "metadata": {},
   "outputs": [
    {
     "name": "stdout",
     "output_type": "stream",
     "text": [
      "Root-mean-square error = 1.2260849010325352\n"
     ]
    }
   ],
   "source": [
    "#Evaluate the root mean squared error if we use the global average as a prediction for all rating, Our model should perform better than this\n",
    "\n",
    "\n",
    "test_avg = test.withColumn('prediction',lit(global_mean))\n",
    "    \n",
    "evaluator = RegressionEvaluator(metricName=\"rmse\", labelCol=\"stars\",predictionCol=\"prediction\")\n",
    "rmse = evaluator.evaluate(test_avg)\n",
    "\n",
    "print(\"Root-mean-square error = \" + str(rmse))\n"
   ]
  },
  {
   "cell_type": "markdown",
   "metadata": {},
   "source": [
    "## Basic ALS model\n",
    "The Apache Spark library provides various parameters for the ALS (Alternating Least Squares) algorithm, including:\n",
    "\n",
    "- rank: the number of latent factors used in the model (default value: 10).\n",
    "- maxIter: the maximum number of iterations to run (default value: 10).\n",
    "- regParam: the regularization parameter used in ALS (default value: 1.0).\n",
    "- implicitPrefs: a boolean value that indicates whether to use the explicit feedback ALS variant or the one adapted for implicit feedback data (default value: false, which means using explicit feedback).\n",
    "- alpha: a parameter that applies to the implicit feedback variant of ALS, determining the baseline confidence in preference observations (default value: 1.0).\n",
    "- nonnegative: a boolean value that specifies whether to use nonnegative constraints for least squares (default value: false)."
   ]
  },
  {
   "cell_type": "code",
   "execution_count": 10,
   "metadata": {},
   "outputs": [
    {
     "data": {
      "text/plain": [
       "ALS_e3f9c9cc18f8"
      ]
     },
     "execution_count": 10,
     "metadata": {},
     "output_type": "execute_result"
    }
   ],
   "source": [
    "\n",
    "#ALS model with default values\n",
    "als=ALS(userCol=\"user_id_index\",itemCol=\"business_id_index\",ratingCol=\"stars\",coldStartStrategy=\"drop\",nonnegative=True)\n",
    "als.setSeed(2)"
   ]
  },
  {
   "cell_type": "code",
   "execution_count": 11,
   "metadata": {},
   "outputs": [],
   "source": [
    "#train the default model\n",
    "model=als.fit(training)"
   ]
  },
  {
   "cell_type": "code",
   "execution_count": 12,
   "metadata": {},
   "outputs": [],
   "source": [
    "# predict the stars for test set \n",
    "predictions=model.transform(test)"
   ]
  },
  {
   "cell_type": "code",
   "execution_count": 13,
   "metadata": {},
   "outputs": [
    {
     "name": "stdout",
     "output_type": "stream",
     "text": [
      "RMSE=1.3534108396501865\n"
     ]
    }
   ],
   "source": [
    "#evaludate default model\n",
    "evaluator=RegressionEvaluator(metricName=\"rmse\",labelCol=\"stars\",predictionCol=\"prediction\")\n",
    "rmse=evaluator.evaluate(predictions)\n",
    "print(\"RMSE=\"+str(rmse))"
   ]
  },
  {
   "cell_type": "markdown",
   "metadata": {},
   "source": [
    "## Tuning Hyper Parameters"
   ]
  },
  {
   "cell_type": "code",
   "execution_count": 14,
   "metadata": {},
   "outputs": [
    {
     "name": "stdout",
     "output_type": "stream",
     "text": [
      "RMSE with latent factor 5 is=1.3524617852548415\n",
      "RMSE with latent factor 30 is=1.3238220621391332\n",
      "RMSE with latent factor 50 is=1.3182668564134439\n",
      "RMSE with latent factor 100 is=1.309269792868218\n"
     ]
    }
   ],
   "source": [
    "ranks=[5,30,50,100]\n",
    "for rank in ranks:\n",
    "    als = ALS(rank=rank,userCol=\"user_id_index\",itemCol=\"business_id_index\",ratingCol=\"stars\",coldStartStrategy=\"drop\",nonnegative=True)\n",
    "    als.setSeed(2)\n",
    "    model = als.fit(training)\n",
    "    evaluator=RegressionEvaluator(metricName=\"rmse\",labelCol=\"stars\",predictionCol=\"prediction\")\n",
    "    predictions=model.transform(test)\n",
    "    rmse=evaluator.evaluate(predictions)\n",
    "    print(\"RMSE with latent factor \"+str(rank) +\" is=\"+str(rmse))\n",
    "    "
   ]
  },
  {
   "cell_type": "code",
   "execution_count": 15,
   "metadata": {},
   "outputs": [
    {
     "name": "stdout",
     "output_type": "stream",
     "text": [
      "RMSE with latent factor 100 and maxIter 10 is=1.309269792868218\n",
      "RMSE with latent factor 100 and maxIter 15 is=1.2994357989444387\n",
      "RMSE with latent factor 100 and maxIter 20 is=1.2990339815403404\n"
     ]
    }
   ],
   "source": [
    "epcohs=[10,15,20]\n",
    "for epcoh in epcohs:\n",
    "    als = ALS(rank=100,maxIter=epcoh,userCol=\"user_id_index\",itemCol=\"business_id_index\",ratingCol=\"stars\",coldStartStrategy=\"drop\",nonnegative=True)\n",
    "    als.setSeed(2)\n",
    "    model = als.fit(training)\n",
    "    evaluator=RegressionEvaluator(metricName=\"rmse\",labelCol=\"stars\",predictionCol=\"prediction\")\n",
    "    predictions=model.transform(test)\n",
    "    rmse=evaluator.evaluate(predictions)\n",
    "    print(\"RMSE with latent factor 100 and maxIter \"+str(epcoh) +\" is=\"+str(rmse))\n",
    "    "
   ]
  },
  {
   "cell_type": "markdown",
   "metadata": {},
   "source": [
    "# ALS Model With Bias"
   ]
  },
  {
   "cell_type": "code",
   "execution_count": 16,
   "metadata": {},
   "outputs": [
    {
     "name": "stdout",
     "output_type": "stream",
     "text": [
      "+-----+-----------------+------------------+---------------------+\n",
      "|stars|        user_mean|         item_mean|user_item_interaction|\n",
      "+-----+-----------------+------------------+---------------------+\n",
      "|  4.0|3.652173913043478| 4.133333333333334|  0.10677640487871143|\n",
      "|  4.0|3.652173913043478| 3.989795918367347|  0.25031381984469814|\n",
      "|  4.0|3.652173913043478|3.9105263157894736|  0.32958342242257155|\n",
      "|  4.0|3.652173913043478| 4.235887096774194| 0.004222641437851227|\n",
      "|  4.0|3.652173913043478| 3.925925925925926|  0.31418381228611914|\n",
      "|  3.0|3.652173913043478| 4.244514106583072|   -1.004404368371027|\n",
      "|  4.0|3.652173913043478|               4.0|  0.24010973821204518|\n",
      "|  5.0|3.652173913043478| 4.042654028436019|   1.1974557097760266|\n",
      "|  4.0|3.652173913043478|             3.125|   1.1151097382120452|\n",
      "|  4.0|3.652173913043478|               4.0|  0.24010973821204518|\n",
      "+-----+-----------------+------------------+---------------------+\n",
      "only showing top 10 rows\n",
      "\n"
     ]
    }
   ],
   "source": [
    "# Compute user mean and item mean on the training set\n",
    "user_mean = training.groupBy('user_id_index').agg(avg('stars').alias('user_mean'))\n",
    "item_mean = training.groupBy('business_id_index').agg(avg('stars').alias('item_mean'))\n",
    "#remove bias from training set\n",
    "interactions = training.join(user_mean, 'user_id_index').join(item_mean, 'business_id_index')\n",
    "interactions = interactions.withColumn('user_item_interaction', col('stars') - col('user_mean') - col('item_mean') + global_mean)\n",
    "interactions.select('stars','user_mean','item_mean','user_item_interaction').show(10)"
   ]
  },
  {
   "cell_type": "code",
   "execution_count": 17,
   "metadata": {},
   "outputs": [
    {
     "name": "stdout",
     "output_type": "stream",
     "text": [
      "RMSE with latent factor 5 is=1.187015001289878\n",
      "RMSE with latent factor 10 is=1.1856944430863587\n",
      "RMSE with latent factor 30 is=1.1831676942255571\n",
      "RMSE with latent factor 50 is=1.1828233746778907\n",
      "RMSE with latent factor 100 is=1.1813151492298182\n"
     ]
    }
   ],
   "source": [
    "evaluator = RegressionEvaluator(metricName='rmse', labelCol='stars', predictionCol='user_item_interaction_recomputed')\n",
    "\n",
    "ranks=[5,10,30,50,100]\n",
    "for rank in ranks:\n",
    "    als = ALS(maxIter=20,rank=rank,userCol=\"user_id_index\",itemCol=\"business_id_index\",ratingCol=\"user_item_interaction\",coldStartStrategy=\"drop\",nonnegative=True)\n",
    "    als.setSeed(2)\n",
    "    model = als.fit(interactions)\n",
    "    predictions=model.transform(test).withColumnRenamed('prediction','predicted_rating')\n",
    "    predictions=  predictions.join(user_mean, 'user_id_index').join(item_mean, 'business_id_index')\n",
    "    predictions = predictions.withColumn('user_item_interaction_recomputed', col('predicted_rating') + col('user_mean') + col('item_mean') - global_mean)\n",
    "    rmse=evaluator.evaluate(predictions)\n",
    "    print(\"RMSE with latent factor \"+str(rank) +\" is=\"+str(rmse))"
   ]
  },
  {
   "cell_type": "markdown",
   "metadata": {},
   "source": [
    "# Final model "
   ]
  },
  {
   "cell_type": "code",
   "execution_count": 18,
   "metadata": {},
   "outputs": [],
   "source": [
    "als = ALS(maxIter=20,rank=100,userCol=\"user_id_index\",itemCol=\"business_id_index\",ratingCol=\"user_item_interaction\",coldStartStrategy=\"drop\",nonnegative=True)\n",
    "als.setSeed(2)\n",
    "model = als.fit(interactions)\n",
    "predictions=model.transform(test).withColumnRenamed('prediction','predicted_rating')\n",
    "predictions=  predictions.join(user_mean, 'user_id_index').join(item_mean, 'business_id_index')\n",
    "predictions = predictions.withColumn('user_item_interaction_recomputed', col('predicted_rating') + col('user_mean') + col('item_mean') - global_mean)\n",
    "  "
   ]
  },
  {
   "cell_type": "markdown",
   "metadata": {},
   "source": [
    "# Evaluation"
   ]
  },
  {
   "cell_type": "code",
   "execution_count": 19,
   "metadata": {},
   "outputs": [
    {
     "name": "stdout",
     "output_type": "stream",
     "text": [
      "RMSE is=1.1813151492298204\n"
     ]
    }
   ],
   "source": [
    "evaluator = RegressionEvaluator(metricName='rmse', labelCol='stars', predictionCol='user_item_interaction_recomputed')\n",
    "rmse=evaluator.evaluate(predictions)\n",
    "print(\"RMSE is=\"+str(rmse))"
   ]
  },
  {
   "cell_type": "code",
   "execution_count": 20,
   "metadata": {},
   "outputs": [
    {
     "name": "stdout",
     "output_type": "stream",
     "text": [
      "Standard deviation of predictions: 0.9202296973985253\n",
      "Standard deviation of stars: 1.1406615072644828\n",
      "Mean of predictions: 3.973922158296197\n",
      "Mean of stars: 3.8865761405816848\n",
      "Standard Deviation ratio  0.8067508998400466\n",
      "+-----------------+-----+------------------+\n",
      "|business_id_index|stars|  predicted_rating|\n",
      "+-----------------+-----+------------------+\n",
      "|            207.0|  4.0| 4.476608654423227|\n",
      "|            481.0|  3.0|3.9692444077048012|\n",
      "|            133.0|  5.0| 4.186363026915593|\n",
      "|           2089.0|  5.0| 5.002954443982572|\n",
      "|            300.0|  5.0| 4.350132567377221|\n",
      "|           3038.0|  5.0| 4.384552064231366|\n",
      "|           1121.0|  5.0| 4.148446820071667|\n",
      "|           1374.0|  4.0| 4.280622373214692|\n",
      "|           1295.0|  5.0| 4.210098958015045|\n",
      "|            149.0|  5.0|3.1068964112286785|\n",
      "+-----------------+-----+------------------+\n",
      "only showing top 10 rows\n",
      "\n"
     ]
    }
   ],
   "source": [
    "std_dev = predictions.select(stddev('user_item_interaction_recomputed')).collect()[0][0]\n",
    "print('Standard deviation of predictions:', std_dev)\n",
    "\n",
    "std_dev_stars = predictions.select(stddev('stars')).collect()[0][0]\n",
    "print('Standard deviation of stars:', std_dev_stars)\n",
    "\n",
    "mean_prediction = predictions.select(mean('user_item_interaction_recomputed')).collect()[0][0]\n",
    "print('Mean of predictions:', mean_prediction)\n",
    "\n",
    "mean_stars = predictions.select(mean('stars')).collect()[0][0]\n",
    "print('Mean of stars:', mean_stars)\n",
    "\n",
    "print('Standard Deviation ratio ', std_dev/std_dev_stars)\n",
    "\n",
    "predictions.select('business_id_index','stars','user_item_interaction_recomputed').withColumnRenamed('user_item_interaction_recomputed','predicted_rating').show(10)"
   ]
  },
  {
   "cell_type": "markdown",
   "metadata": {},
   "source": [
    "# Find Best Recommendations"
   ]
  },
  {
   "cell_type": "code",
   "execution_count": 160,
   "metadata": {},
   "outputs": [],
   "source": [
    "def get_recommendations(target_user):\n",
    "    \"\"\"\n",
    "    Returns top recommendations for a user.\n",
    "\n",
    "    Returns\n",
    "    -------\n",
    "    :py:class:`pyspark.sql.DataFrame`\n",
    "    a DataFrame of (itemCol, recommendations), where recommendations are\n",
    "    stored as an array of ('name','business_id', 'stars', 'categories') Rows.\n",
    "    \"\"\"\n",
    "    \n",
    "    out = model.recommendForAllUsers(10).filter(col('user_id_index')==target_user).select(\"recommendations\").take(10)\n",
    "    min_rating = 1.0 \n",
    "    max_rating = 5.0 \n",
    "    topRestaurants = []\n",
    "    ratings=[]\n",
    "    user_mean_rating=(user_mean.filter(col('user_id_index')==30).take(1))[0]['user_mean']\n",
    "    for item in out[0][0]:        \n",
    "        topRestaurants.append(item.business_id_index)\n",
    "        item_mean_rating=(item_mean.filter(col('business_id_index')==item.business_id_index).take(1))[0]['item_mean']\n",
    "        ratings.append(item.rating+user_mean_rating+item_mean_rating-global_mean)\n",
    "\n",
    "    normalized_ratings = [(rating - min_rating) / (max_rating - min_rating) for rating in ratings]\n",
    "    scaled_ratings = [(normalized_rating * (max_rating - min_rating)) + min_rating for normalized_rating in normalized_ratings]\n",
    "    final_ratings = [min(max(rating, min_rating), max_rating) for rating in scaled_ratings]\n",
    "    \n",
    "    restaurants = spark.createDataFrame(zip(topRestaurants,final_ratings)).toDF(\"business_id_index\",\"ratings\")\n",
    "\n",
    "    return restaurants"
   ]
  },
  {
   "cell_type": "code",
   "execution_count": 165,
   "metadata": {},
   "outputs": [],
   "source": [
    "def display_top10_recommendations(restaurants):\n",
    "    \"\"\"\n",
    "    Displays the top 10 restaurant recommendations.\n",
    "    \"\"\"\n",
    "    restaurants\\\n",
    "    .join(transformed, on = 'business_id_index', how = 'inner')\\\n",
    "    .select([ 'business_id_index','name', round('ratings',2), 'categories']).withColumnRenamed('round(ratings, 2)','rating')\\\n",
    "    .drop_duplicates(subset=['name']).sort(col('ratings'),ascending=False).show(10)\n"
   ]
  },
  {
   "cell_type": "markdown",
   "metadata": {},
   "source": [
    "## Display the Top Recommendations"
   ]
  },
  {
   "cell_type": "code",
   "execution_count": 166,
   "metadata": {},
   "outputs": [
    {
     "name": "stdout",
     "output_type": "stream",
     "text": [
      "+-----------------+--------------------+------+--------------------+\n",
      "|business_id_index|                name|rating|          categories|\n",
      "+-----------------+--------------------+------+--------------------+\n",
      "|             2438|    Café Mucho Mucho|  4.51|Food, Coffee & Te...|\n",
      "|             3841|Commission des Li...|  3.97|Restaurants, Danc...|\n",
      "|             2777|Resto-Pub 100 Génies|  3.96|Burgers, Pizza, R...|\n",
      "|              657|La Station des Sp...|   3.9|Restaurants, Burg...|\n",
      "|              934|             Soubois|  3.88|Bars, Gastropubs,...|\n",
      "|             1798|             Pandore|  3.77|Nightlife, Dance ...|\n",
      "|             2699|           Lobby Bar|  3.76|Canadian (New), N...|\n",
      "|             1337|    Restaurant Limon|  3.66|Mexican, Restaurants|\n",
      "|             2217|            Échalote|  3.29|Pan Asian, Vietna...|\n",
      "|             3518|      Resto-Bar-Code|  1.75|Canadian (New), R...|\n",
      "+-----------------+--------------------+------+--------------------+\n",
      "\n"
     ]
    }
   ],
   "source": [
    "target_user = '85Jq6l707HWj2XpFw7qPGg'\n",
    "user_id_index=(transformed.where(col('user_id')==target_user).select('user_id_index').take(1))[0]['user_id_index']\n",
    "top10_recommendations = get_recommendations(user_id_index)\n",
    "display_top10_recommendations(top10_recommendations)\n"
   ]
  }
 ],
 "metadata": {
  "kernelspec": {
   "display_name": "Python 3 (ipykernel)",
   "language": "python",
   "name": "python3"
  },
  "language_info": {
   "codemirror_mode": {
    "name": "ipython",
    "version": 3
   },
   "file_extension": ".py",
   "mimetype": "text/x-python",
   "name": "python",
   "nbconvert_exporter": "python",
   "pygments_lexer": "ipython3",
   "version": "3.10.0"
  }
 },
 "nbformat": 4,
 "nbformat_minor": 4
}
